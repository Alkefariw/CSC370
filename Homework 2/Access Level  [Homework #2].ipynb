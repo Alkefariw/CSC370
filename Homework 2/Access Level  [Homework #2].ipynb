{
 "cells": [
  {
   "cell_type": "code",
   "execution_count": 1,
   "id": "8e4b7244",
   "metadata": {},
   "outputs": [
    {
     "name": "stdout",
     "output_type": "stream",
     "text": [
      "DDAAAA\n",
      "DDDDD\n",
      "\n",
      "DADADD\n"
     ]
    }
   ],
   "source": [
    "class AccessLevel:\n",
    "    def checkAccess(self, rights, minPermission):\n",
    "        if len(rights) < 0 or len(rights) > 100:\n",
    "            return \"users will contain between 0 and 50 elements, inclusive.\"\n",
    "        if minPermission < 0 or minPermission > 100:\n",
    "            return \"minPermission must be between 0 and 100, inclusive.\"\n",
    "        for i in range(len(rights)):\n",
    "            if rights[i] < 0 or rights[i] > 100:\n",
    "                return \"Each element of users must be between 0 and 100, inclusive.\"\n",
    "        answerString = ''\n",
    "        if len(rights) == 0:\n",
    "            return answerString\n",
    "        for i in range(len(rights)):\n",
    "            if rights[i] >= minPermission:\n",
    "                answerString += 'A'\n",
    "            else:\n",
    "                answerString += 'D'\n",
    "        return answerString\n",
    "obj = AccessLevel()\n",
    "print(obj.checkAccess([0,1,2,3,4,5], 2))\n",
    "obj1 = AccessLevel()\n",
    "print(obj1.checkAccess([5,3,2,10,0], 20))\n",
    "obj2 = AccessLevel()\n",
    "print(obj2.checkAccess([], 20))\n",
    "obj3 = AccessLevel()\n",
    "print(obj3.checkAccess([34,78,9,52,11,1], 49))\n"
   ]
  },
  {
   "cell_type": "code",
   "execution_count": null,
   "id": "50a9450b",
   "metadata": {},
   "outputs": [],
   "source": []
  }
 ],
 "metadata": {
  "kernelspec": {
   "display_name": "Python 3",
   "language": "python",
   "name": "python3"
  },
  "language_info": {
   "codemirror_mode": {
    "name": "ipython",
    "version": 3
   },
   "file_extension": ".py",
   "mimetype": "text/x-python",
   "name": "python",
   "nbconvert_exporter": "python",
   "pygments_lexer": "ipython3",
   "version": "3.8.8"
  }
 },
 "nbformat": 4,
 "nbformat_minor": 5
}
