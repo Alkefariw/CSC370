{
 "cells": [
  {
   "cell_type": "code",
   "execution_count": 3,
   "id": "654c7fa6",
   "metadata": {},
   "outputs": [
    {
     "name": "stdout",
     "output_type": "stream",
     "text": [
      "['/', '/games/', '/homework/', '/usr/', '/games/snake/', '/temp/downloads/', '/usr/local/', '/usr/local/bin/']\n",
      "['/bin/', '/usr/', '/bin/local/', '/bin/local/', '/usr/bin/', '/usr/local/', '/usr/local/bin/']\n",
      "['/', '/a/', '/b/', '/c/', '/d/', '/e/', '/f/', '/g/']\n",
      "['/', '/a/', '/b/', '/c/', '/d/', '/e/', '/f/', '/g/', '/a/a/', '/g/f/', '/b/g/c/']\n",
      "['/o/p/q/r/s/t/u/v/w/x/y/z/', '/a/b/c/d/e/f/g/h/i/j/k/l/m/n/']\n",
      "['/a/b/', '/ab/cd/', '/c/d/', '/a/b/c/', '/a/b/cd/', '/a/bc/d/', '/ab/c/d/']\n"
     ]
    }
   ],
   "source": [
    "import re\n",
    "class Dirsort:\n",
    "    def sort(self, dirs):\n",
    "        if len(dirs) < 1 or len(dirs) > 50:\n",
    "            return \"dirs will contain between 1 and 50 elements, inclusive.\"\n",
    "        for dir in dirs:\n",
    "            if len(dir) < 1 or len(dir) > 50:\n",
    "                return \"Each element of dirs will be of length 1 to 50, inclusive.\"\n",
    "        for dir in dirs:\n",
    "            if not re.match('^([\\/]{1}[a-z]+)+(\\/?){1}$|^([\\/]{1})$', dir):\n",
    "                return \"Each element of dirs will contain only lowercase letters [a-z], inclusive, and the slash ('/') character. Each element of dirs will begin with a slash, end with a slash, and not have double slashes anywhere.\"\n",
    "        depth_dict = {}\n",
    "        for i in range(len(dirs)):\n",
    "            depth_dict[i] = 0\n",
    "        for i in range(len(dirs)):\n",
    "            depth_dict[i] = dirs[i].count('/') #length of directories determined through counting the number of / \n",
    "        sorted_depth_dict = {}\n",
    "        sorted_depth_keys = sorted(depth_dict, key=depth_dict.get)  #sort the indices wrt to count of /\n",
    "        for w in sorted_depth_keys:\n",
    "            sorted_depth_dict[w] = depth_dict[w]\n",
    "        sorted_dirs_depth = [None] * len(dirs)\n",
    "        i = 0\n",
    "        for key, _ in sorted_depth_dict.items():\n",
    "            sorted_dirs_depth[i] = dirs[key]    #sort the directories wrt their lengths\n",
    "            i += 1\n",
    "        keys = list(sorted_depth_dict.values())\n",
    "        for i in range(len(sorted_dirs_depth)):\n",
    "            for j in range(i+1, len(sorted_dirs_depth)):\n",
    "                if keys[j] == keys[i]:  #incase the dir lengths are the same, then only sort lexicographically\n",
    "                    if sorted_dirs_depth[i] > sorted_dirs_depth[j]:\n",
    "                        temp = sorted_dirs_depth[i]\n",
    "                        sorted_dirs_depth[i] = sorted_dirs_depth[j]\n",
    "                        sorted_dirs_depth[j] = temp\n",
    "                else:\n",
    "                    if (sorted_dirs_depth[i] > sorted_dirs_depth[j]) and keys[i] > keys[j]:\n",
    "                        temp = sorted_dirs_depth[i]\n",
    "                        sorted_dirs_depth[i] = sorted_dirs_depth[j]\n",
    "                        sorted_dirs_depth[j] = temp\n",
    "        return sorted_dirs_depth\n",
    "\n",
    "# Driver Code\n",
    "obj = Dirsort()\n",
    "print(obj.sort([\"/\",\"/usr/\",\"/usr/local/\",\"/usr/local/bin/\",\"/games/\",\"/games/snake/\",\"/homework/\",\"/temp/downloads/\"]))\n",
    "print(obj.sort([\"/usr/\",\"/usr/local/\",\"/bin/\",\"/usr/local/bin/\",\"/usr/bin/\",\"/bin/local/\",\"/bin/local/\"]))\n",
    "print(obj.sort([\"/\",\"/a/\",\"/b/\",\"/c/\",\"/d/\",\"/e/\",\"/f/\",\"/g/\"]))\n",
    "print(obj.sort([\"/\",\"/a/\",\"/b/\",\"/c/\",\"/d/\",\"/e/\",\"/f/\",\"/g/\",\"/a/a/\",\"/b/g/c/\",\"/g/f/\"]))\n",
    "print(obj.sort([\"/a/b/c/d/e/f/g/h/i/j/k/l/m/n/\",\"/o/p/q/r/s/t/u/v/w/x/y/z/\"]))\n",
    "print(obj.sort([\"/a/b/\",\"/ab/cd/\",\"/c/d/\",\"/a/b/c/\",\"/ab/c/d/\",\"/a/bc/d/\",\"/a/b/cd/\"]))"
   ]
  },
  {
   "cell_type": "code",
   "execution_count": null,
   "id": "24d1edaa",
   "metadata": {},
   "outputs": [],
   "source": []
  }
 ],
 "metadata": {
  "kernelspec": {
   "display_name": "Python 3",
   "language": "python",
   "name": "python3"
  },
  "language_info": {
   "codemirror_mode": {
    "name": "ipython",
    "version": 3
   },
   "file_extension": ".py",
   "mimetype": "text/x-python",
   "name": "python",
   "nbconvert_exporter": "python",
   "pygments_lexer": "ipython3",
   "version": "3.8.8"
  }
 },
 "nbformat": 4,
 "nbformat_minor": 5
}
