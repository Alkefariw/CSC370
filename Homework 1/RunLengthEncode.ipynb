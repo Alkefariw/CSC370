{
 "cells": [
  {
   "cell_type": "code",
   "execution_count": 1,
   "id": "7d056e54",
   "metadata": {},
   "outputs": [
    {
     "name": "stdout",
     "output_type": "stream",
     "text": [
      "/05a\n",
      "aaaa\n",
      "abcabcabcabcabc\n",
      "if(a){if(b){if(c){if(d){if(e){5 d/07ep/05}\n"
     ]
    }
   ],
   "source": [
    "\n",
    "def encode(s):\n",
    "    count = 1\n",
    "    lastChar = '';\n",
    "    repeat = True\n",
    "    newString = \"\"\n",
    "    tempString = \"\"\n",
    "    s = s + ''\n",
    "    \n",
    "    for element in range(0, len(s)-1):\n",
    "      \n",
    "      \n",
    "        tempString = tempString + s[element]\n",
    "        lastChar  = s[element]\n",
    "        if lastChar == s[element + 1]:\n",
    "            count = count + 1\n",
    "            repeat = True\n",
    "    \n",
    "        else:\n",
    "            if count >= 5:\n",
    "                \n",
    "                newString = newString + \"/0\" + str(count) + lastChar\n",
    "                tempString = \"\"\n",
    "            else:\n",
    "                newString = newString + tempString\n",
    "            \n",
    "            count = 1\n",
    "            repeat = False\n",
    "            tempString = \"\"\n",
    "            \n",
    "        if element == len(s)-2:\n",
    "            \n",
    "            if count >= 5:\n",
    "                \n",
    "                newString = newString + \"/0\" + str(count) + lastChar\n",
    "                tempString = \"\"\n",
    "                \n",
    "            else:\n",
    "                newString = newString + tempString + s[element+1]\n",
    "            \n",
    "            count = 1\n",
    "            repeat = False\n",
    "            tempString = \"\"\n",
    "            \n",
    "            \n",
    "            \n",
    "    \n",
    "    \n",
    "    newString = newString + tempString\n",
    "    return newString\n",
    "    \n",
    "\n",
    "print(encode(\"aaaaa\"))\n",
    "print(encode(\"aaaa\"))\n",
    "print(encode(\"abcabcabcabcabc\"))\n",
    "print(encode(\"if(a){if(b){if(c){if(d){if(e){5 deeeeeeep}}}}}\"))\n"
   ]
  },
  {
   "cell_type": "code",
   "execution_count": null,
   "id": "dba8fa68",
   "metadata": {},
   "outputs": [],
   "source": []
  }
 ],
 "metadata": {
  "kernelspec": {
   "display_name": "Python 3 (ipykernel)",
   "language": "python",
   "name": "python3"
  },
  "language_info": {
   "codemirror_mode": {
    "name": "ipython",
    "version": 3
   },
   "file_extension": ".py",
   "mimetype": "text/x-python",
   "name": "python",
   "nbconvert_exporter": "python",
   "pygments_lexer": "ipython3",
   "version": "3.8.12"
  }
 },
 "nbformat": 4,
 "nbformat_minor": 5
}
